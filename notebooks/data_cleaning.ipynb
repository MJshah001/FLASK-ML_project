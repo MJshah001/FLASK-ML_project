{
 "cells": [
  {
   "cell_type": "markdown",
   "id": "0ccb3d4c-ea79-41b2-b9ee-65b85c693c4f",
   "metadata": {},
   "source": [
    "## Importing Libraries"
   ]
  },
  {
   "cell_type": "code",
   "execution_count": 1,
   "id": "bfa746e2-8746-4e7b-b580-f01dfbaa3791",
   "metadata": {},
   "outputs": [],
   "source": [
    "import os\n",
    "import numpy as np\n",
    "import pandas as pd\n",
    "from sklearn.model_selection import train_test_split"
   ]
  },
  {
   "cell_type": "markdown",
   "id": "53552469-85f0-497c-98db-b4bd003d1bf3",
   "metadata": {},
   "source": [
    "## Data Loading"
   ]
  },
  {
   "cell_type": "code",
   "execution_count": 2,
   "id": "d7eaa564-3906-4d6d-87ef-c7c094e1b3c1",
   "metadata": {},
   "outputs": [],
   "source": [
    "PROJECT_DIR = r\"C:\\Projects\\AWS-SageMaker-Flight_Price_Predictor\"\n",
    "DATA_DIR = \"data\""
   ]
  },
  {
   "cell_type": "code",
   "execution_count": 3,
   "id": "ea13b26b-d4ca-44ca-8b48-c2b966e15098",
   "metadata": {},
   "outputs": [],
   "source": [
    "def get_data(name):\n",
    "    file_name = f\"{name}.csv\"\n",
    "    file_path = os.path.join(PROJECT_DIR,DATA_DIR,file_name)\n",
    "    return pd.read_csv(file_path)"
   ]
  },
  {
   "cell_type": "code",
   "execution_count": 6,
   "id": "fb2a1c36-4bfc-4bdc-8d97-9ab763f45359",
   "metadata": {},
   "outputs": [
    {
     "data": {
      "text/html": [
       "<div>\n",
       "<style scoped>\n",
       "    .dataframe tbody tr th:only-of-type {\n",
       "        vertical-align: middle;\n",
       "    }\n",
       "\n",
       "    .dataframe tbody tr th {\n",
       "        vertical-align: top;\n",
       "    }\n",
       "\n",
       "    .dataframe thead th {\n",
       "        text-align: right;\n",
       "    }\n",
       "</style>\n",
       "<table border=\"1\" class=\"dataframe\">\n",
       "  <thead>\n",
       "    <tr style=\"text-align: right;\">\n",
       "      <th></th>\n",
       "      <th>Airline</th>\n",
       "      <th>Date_of_Journey</th>\n",
       "      <th>Source</th>\n",
       "      <th>Destination</th>\n",
       "      <th>Route</th>\n",
       "      <th>Dep_Time</th>\n",
       "      <th>Arrival_Time</th>\n",
       "      <th>Duration</th>\n",
       "      <th>Total_Stops</th>\n",
       "      <th>Additional_Info</th>\n",
       "      <th>Price</th>\n",
       "    </tr>\n",
       "  </thead>\n",
       "  <tbody>\n",
       "    <tr>\n",
       "      <th>0</th>\n",
       "      <td>IndiGo</td>\n",
       "      <td>24/03/2019</td>\n",
       "      <td>Banglore</td>\n",
       "      <td>New Delhi</td>\n",
       "      <td>BLR → DEL</td>\n",
       "      <td>22:20</td>\n",
       "      <td>01:10 22 Mar</td>\n",
       "      <td>2h 50m</td>\n",
       "      <td>non-stop</td>\n",
       "      <td>No info</td>\n",
       "      <td>3897</td>\n",
       "    </tr>\n",
       "    <tr>\n",
       "      <th>1</th>\n",
       "      <td>Air India</td>\n",
       "      <td>1/05/2019</td>\n",
       "      <td>Kolkata</td>\n",
       "      <td>Banglore</td>\n",
       "      <td>CCU → IXR → BBI → BLR</td>\n",
       "      <td>05:50</td>\n",
       "      <td>13:15</td>\n",
       "      <td>7h 25m</td>\n",
       "      <td>2 stops</td>\n",
       "      <td>No info</td>\n",
       "      <td>7662</td>\n",
       "    </tr>\n",
       "    <tr>\n",
       "      <th>2</th>\n",
       "      <td>Jet Airways</td>\n",
       "      <td>9/06/2019</td>\n",
       "      <td>Delhi</td>\n",
       "      <td>Cochin</td>\n",
       "      <td>DEL → LKO → BOM → COK</td>\n",
       "      <td>09:25</td>\n",
       "      <td>04:25 10 Jun</td>\n",
       "      <td>19h</td>\n",
       "      <td>2 stops</td>\n",
       "      <td>No info</td>\n",
       "      <td>13882</td>\n",
       "    </tr>\n",
       "    <tr>\n",
       "      <th>3</th>\n",
       "      <td>IndiGo</td>\n",
       "      <td>12/05/2019</td>\n",
       "      <td>Kolkata</td>\n",
       "      <td>Banglore</td>\n",
       "      <td>CCU → NAG → BLR</td>\n",
       "      <td>18:05</td>\n",
       "      <td>23:30</td>\n",
       "      <td>5h 25m</td>\n",
       "      <td>1 stop</td>\n",
       "      <td>No info</td>\n",
       "      <td>6218</td>\n",
       "    </tr>\n",
       "    <tr>\n",
       "      <th>4</th>\n",
       "      <td>IndiGo</td>\n",
       "      <td>01/03/2019</td>\n",
       "      <td>Banglore</td>\n",
       "      <td>New Delhi</td>\n",
       "      <td>BLR → NAG → DEL</td>\n",
       "      <td>16:50</td>\n",
       "      <td>21:35</td>\n",
       "      <td>4h 45m</td>\n",
       "      <td>1 stop</td>\n",
       "      <td>No info</td>\n",
       "      <td>13302</td>\n",
       "    </tr>\n",
       "  </tbody>\n",
       "</table>\n",
       "</div>"
      ],
      "text/plain": [
       "       Airline Date_of_Journey    Source Destination                  Route  \\\n",
       "0       IndiGo      24/03/2019  Banglore   New Delhi              BLR → DEL   \n",
       "1    Air India       1/05/2019   Kolkata    Banglore  CCU → IXR → BBI → BLR   \n",
       "2  Jet Airways       9/06/2019     Delhi      Cochin  DEL → LKO → BOM → COK   \n",
       "3       IndiGo      12/05/2019   Kolkata    Banglore        CCU → NAG → BLR   \n",
       "4       IndiGo      01/03/2019  Banglore   New Delhi        BLR → NAG → DEL   \n",
       "\n",
       "  Dep_Time  Arrival_Time Duration Total_Stops Additional_Info  Price  \n",
       "0    22:20  01:10 22 Mar   2h 50m    non-stop         No info   3897  \n",
       "1    05:50         13:15   7h 25m     2 stops         No info   7662  \n",
       "2    09:25  04:25 10 Jun      19h     2 stops         No info  13882  \n",
       "3    18:05         23:30   5h 25m      1 stop         No info   6218  \n",
       "4    16:50         21:35   4h 45m      1 stop         No info  13302  "
      ]
     },
     "execution_count": 6,
     "metadata": {},
     "output_type": "execute_result"
    }
   ],
   "source": [
    "flights = get_data(\"flight_price\")\n",
    "flights.head(5)"
   ]
  },
  {
   "cell_type": "code",
   "execution_count": 7,
   "id": "122def4c-2e9f-4a82-90d2-047b25fa7396",
   "metadata": {},
   "outputs": [
    {
     "name": "stdout",
     "output_type": "stream",
     "text": [
      "<class 'pandas.core.frame.DataFrame'>\n",
      "RangeIndex: 10683 entries, 0 to 10682\n",
      "Data columns (total 11 columns):\n",
      " #   Column           Non-Null Count  Dtype \n",
      "---  ------           --------------  ----- \n",
      " 0   Airline          10683 non-null  object\n",
      " 1   Date_of_Journey  10683 non-null  object\n",
      " 2   Source           10683 non-null  object\n",
      " 3   Destination      10683 non-null  object\n",
      " 4   Route            10682 non-null  object\n",
      " 5   Dep_Time         10683 non-null  object\n",
      " 6   Arrival_Time     10683 non-null  object\n",
      " 7   Duration         10683 non-null  object\n",
      " 8   Total_Stops      10682 non-null  object\n",
      " 9   Additional_Info  10683 non-null  object\n",
      " 10  Price            10683 non-null  int64 \n",
      "dtypes: int64(1), object(10)\n",
      "memory usage: 918.2+ KB\n"
     ]
    }
   ],
   "source": [
    "flights.info()"
   ]
  },
  {
   "cell_type": "markdown",
   "id": "cf001757-1a97-4faf-82d2-a816fc1baa55",
   "metadata": {},
   "source": [
    "- The dataset contains 10,683 rows and 11 features.\n",
    "- Colums `Route` and `Total_Stops` have a missing value in each.\n",
    "- Data types of some features are not appropriate."
   ]
  },
  {
   "cell_type": "markdown",
   "id": "efb93a7a-989e-4bf3-910a-35e26daae5de",
   "metadata": {},
   "source": [
    "## Prelimnary Analysis"
   ]
  },
  {
   "cell_type": "markdown",
   "id": "6acce248-22d7-4045-a2a0-340c399b2b19",
   "metadata": {},
   "source": [
    "### Data Types "
   ]
  },
  {
   "cell_type": "code",
   "execution_count": 11,
   "id": "2f1811bd-6b02-463e-a352-753dcf0ba450",
   "metadata": {},
   "outputs": [
    {
     "data": {
      "text/html": [
       "<div>\n",
       "<style scoped>\n",
       "    .dataframe tbody tr th:only-of-type {\n",
       "        vertical-align: middle;\n",
       "    }\n",
       "\n",
       "    .dataframe tbody tr th {\n",
       "        vertical-align: top;\n",
       "    }\n",
       "\n",
       "    .dataframe thead th {\n",
       "        text-align: right;\n",
       "    }\n",
       "</style>\n",
       "<table border=\"1\" class=\"dataframe\">\n",
       "  <thead>\n",
       "    <tr style=\"text-align: right;\">\n",
       "      <th></th>\n",
       "      <th>Airline</th>\n",
       "      <th>Date_of_Journey</th>\n",
       "      <th>Source</th>\n",
       "      <th>Destination</th>\n",
       "      <th>Route</th>\n",
       "      <th>Dep_Time</th>\n",
       "      <th>Arrival_Time</th>\n",
       "      <th>Duration</th>\n",
       "      <th>Total_Stops</th>\n",
       "      <th>Additional_Info</th>\n",
       "      <th>Price</th>\n",
       "    </tr>\n",
       "  </thead>\n",
       "  <tbody>\n",
       "    <tr>\n",
       "      <th>0</th>\n",
       "      <td>IndiGo</td>\n",
       "      <td>24/03/2019</td>\n",
       "      <td>Banglore</td>\n",
       "      <td>New Delhi</td>\n",
       "      <td>BLR → DEL</td>\n",
       "      <td>22:20</td>\n",
       "      <td>01:10 22 Mar</td>\n",
       "      <td>2h 50m</td>\n",
       "      <td>non-stop</td>\n",
       "      <td>No info</td>\n",
       "      <td>3897</td>\n",
       "    </tr>\n",
       "    <tr>\n",
       "      <th>1</th>\n",
       "      <td>Air India</td>\n",
       "      <td>1/05/2019</td>\n",
       "      <td>Kolkata</td>\n",
       "      <td>Banglore</td>\n",
       "      <td>CCU → IXR → BBI → BLR</td>\n",
       "      <td>05:50</td>\n",
       "      <td>13:15</td>\n",
       "      <td>7h 25m</td>\n",
       "      <td>2 stops</td>\n",
       "      <td>No info</td>\n",
       "      <td>7662</td>\n",
       "    </tr>\n",
       "    <tr>\n",
       "      <th>2</th>\n",
       "      <td>Jet Airways</td>\n",
       "      <td>9/06/2019</td>\n",
       "      <td>Delhi</td>\n",
       "      <td>Cochin</td>\n",
       "      <td>DEL → LKO → BOM → COK</td>\n",
       "      <td>09:25</td>\n",
       "      <td>04:25 10 Jun</td>\n",
       "      <td>19h</td>\n",
       "      <td>2 stops</td>\n",
       "      <td>No info</td>\n",
       "      <td>13882</td>\n",
       "    </tr>\n",
       "    <tr>\n",
       "      <th>3</th>\n",
       "      <td>IndiGo</td>\n",
       "      <td>12/05/2019</td>\n",
       "      <td>Kolkata</td>\n",
       "      <td>Banglore</td>\n",
       "      <td>CCU → NAG → BLR</td>\n",
       "      <td>18:05</td>\n",
       "      <td>23:30</td>\n",
       "      <td>5h 25m</td>\n",
       "      <td>1 stop</td>\n",
       "      <td>No info</td>\n",
       "      <td>6218</td>\n",
       "    </tr>\n",
       "    <tr>\n",
       "      <th>4</th>\n",
       "      <td>IndiGo</td>\n",
       "      <td>01/03/2019</td>\n",
       "      <td>Banglore</td>\n",
       "      <td>New Delhi</td>\n",
       "      <td>BLR → NAG → DEL</td>\n",
       "      <td>16:50</td>\n",
       "      <td>21:35</td>\n",
       "      <td>4h 45m</td>\n",
       "      <td>1 stop</td>\n",
       "      <td>No info</td>\n",
       "      <td>13302</td>\n",
       "    </tr>\n",
       "  </tbody>\n",
       "</table>\n",
       "</div>"
      ],
      "text/plain": [
       "       Airline Date_of_Journey    Source Destination                  Route  \\\n",
       "0       IndiGo      24/03/2019  Banglore   New Delhi              BLR → DEL   \n",
       "1    Air India       1/05/2019   Kolkata    Banglore  CCU → IXR → BBI → BLR   \n",
       "2  Jet Airways       9/06/2019     Delhi      Cochin  DEL → LKO → BOM → COK   \n",
       "3       IndiGo      12/05/2019   Kolkata    Banglore        CCU → NAG → BLR   \n",
       "4       IndiGo      01/03/2019  Banglore   New Delhi        BLR → NAG → DEL   \n",
       "\n",
       "  Dep_Time  Arrival_Time Duration Total_Stops Additional_Info  Price  \n",
       "0    22:20  01:10 22 Mar   2h 50m    non-stop         No info   3897  \n",
       "1    05:50         13:15   7h 25m     2 stops         No info   7662  \n",
       "2    09:25  04:25 10 Jun      19h     2 stops         No info  13882  \n",
       "3    18:05         23:30   5h 25m      1 stop         No info   6218  \n",
       "4    16:50         21:35   4h 45m      1 stop         No info  13302  "
      ]
     },
     "execution_count": 11,
     "metadata": {},
     "output_type": "execute_result"
    }
   ],
   "source": [
    "flights.head()"
   ]
  },
  {
   "cell_type": "code",
   "execution_count": 12,
   "id": "d52e63d6-a07b-4e5a-a882-7a9561f3c74b",
   "metadata": {},
   "outputs": [
    {
     "data": {
      "text/plain": [
       "Airline            object\n",
       "Date_of_Journey    object\n",
       "Source             object\n",
       "Destination        object\n",
       "Route              object\n",
       "Dep_Time           object\n",
       "Arrival_Time       object\n",
       "Duration           object\n",
       "Total_Stops        object\n",
       "Additional_Info    object\n",
       "Price               int64\n",
       "dtype: object"
      ]
     },
     "execution_count": 12,
     "metadata": {},
     "output_type": "execute_result"
    }
   ],
   "source": [
    "flights.dtypes"
   ]
  },
  {
   "cell_type": "code",
   "execution_count": 17,
   "id": "ccd5737d-04d8-4d8a-8631-8feac2a42dca",
   "metadata": {},
   "outputs": [
    {
     "data": {
      "text/plain": [
       "'24/06/2019'"
      ]
     },
     "execution_count": 17,
     "metadata": {},
     "output_type": "execute_result"
    }
   ],
   "source": [
    "flights.Date_of_Journey.iloc[12]"
   ]
  },
  {
   "cell_type": "code",
   "execution_count": 18,
   "id": "60ba3aab-77ef-4231-a0ae-775dba5b4772",
   "metadata": {},
   "outputs": [
    {
     "data": {
      "text/plain": [
       "'11:40'"
      ]
     },
     "execution_count": 18,
     "metadata": {},
     "output_type": "execute_result"
    }
   ],
   "source": [
    "flights.Dep_Time.iloc[12]"
   ]
  },
  {
   "cell_type": "markdown",
   "id": "28a6ac5f-5cc2-4168-bade-618cce5ab2f8",
   "metadata": {},
   "source": [
    "### Duplicates"
   ]
  },
  {
   "cell_type": "code",
   "execution_count": 21,
   "id": "a6c6f6b0-dc8b-4ea3-aecf-6cb6fd376c20",
   "metadata": {},
   "outputs": [
    {
     "data": {
      "text/plain": [
       "np.int64(220)"
      ]
     },
     "execution_count": 21,
     "metadata": {},
     "output_type": "execute_result"
    }
   ],
   "source": [
    "flights.duplicated().sum()"
   ]
  },
  {
   "cell_type": "code",
   "execution_count": 26,
   "id": "21fc67e0-7587-4fee-bb26-1d5a8d5a681b",
   "metadata": {},
   "outputs": [
    {
     "data": {
      "text/html": [
       "<div>\n",
       "<style scoped>\n",
       "    .dataframe tbody tr th:only-of-type {\n",
       "        vertical-align: middle;\n",
       "    }\n",
       "\n",
       "    .dataframe tbody tr th {\n",
       "        vertical-align: top;\n",
       "    }\n",
       "\n",
       "    .dataframe thead th {\n",
       "        text-align: right;\n",
       "    }\n",
       "</style>\n",
       "<table border=\"1\" class=\"dataframe\">\n",
       "  <thead>\n",
       "    <tr style=\"text-align: right;\">\n",
       "      <th></th>\n",
       "      <th>Airline</th>\n",
       "      <th>Date_of_Journey</th>\n",
       "      <th>Source</th>\n",
       "      <th>Destination</th>\n",
       "      <th>Route</th>\n",
       "      <th>Dep_Time</th>\n",
       "      <th>Arrival_Time</th>\n",
       "      <th>Duration</th>\n",
       "      <th>Total_Stops</th>\n",
       "      <th>Additional_Info</th>\n",
       "      <th>Price</th>\n",
       "    </tr>\n",
       "  </thead>\n",
       "  <tbody>\n",
       "    <tr>\n",
       "      <th>6321</th>\n",
       "      <td>Air India</td>\n",
       "      <td>01/03/2019</td>\n",
       "      <td>Banglore</td>\n",
       "      <td>New Delhi</td>\n",
       "      <td>BLR → BOM → AMD → DEL</td>\n",
       "      <td>08:50</td>\n",
       "      <td>23:55 02 Mar</td>\n",
       "      <td>39h 5m</td>\n",
       "      <td>2 stops</td>\n",
       "      <td>No info</td>\n",
       "      <td>17135</td>\n",
       "    </tr>\n",
       "    <tr>\n",
       "      <th>9848</th>\n",
       "      <td>Air India</td>\n",
       "      <td>01/03/2019</td>\n",
       "      <td>Banglore</td>\n",
       "      <td>New Delhi</td>\n",
       "      <td>BLR → BOM → AMD → DEL</td>\n",
       "      <td>08:50</td>\n",
       "      <td>23:55 02 Mar</td>\n",
       "      <td>39h 5m</td>\n",
       "      <td>2 stops</td>\n",
       "      <td>No info</td>\n",
       "      <td>17135</td>\n",
       "    </tr>\n",
       "    <tr>\n",
       "      <th>572</th>\n",
       "      <td>Air India</td>\n",
       "      <td>03/03/2019</td>\n",
       "      <td>Banglore</td>\n",
       "      <td>New Delhi</td>\n",
       "      <td>BLR → DEL</td>\n",
       "      <td>21:10</td>\n",
       "      <td>23:55</td>\n",
       "      <td>2h 45m</td>\n",
       "      <td>non-stop</td>\n",
       "      <td>No info</td>\n",
       "      <td>7591</td>\n",
       "    </tr>\n",
       "    <tr>\n",
       "      <th>8168</th>\n",
       "      <td>Air India</td>\n",
       "      <td>03/03/2019</td>\n",
       "      <td>Banglore</td>\n",
       "      <td>New Delhi</td>\n",
       "      <td>BLR → DEL</td>\n",
       "      <td>21:10</td>\n",
       "      <td>23:55</td>\n",
       "      <td>2h 45m</td>\n",
       "      <td>non-stop</td>\n",
       "      <td>No info</td>\n",
       "      <td>7591</td>\n",
       "    </tr>\n",
       "    <tr>\n",
       "      <th>1495</th>\n",
       "      <td>Air India</td>\n",
       "      <td>1/04/2019</td>\n",
       "      <td>Kolkata</td>\n",
       "      <td>Banglore</td>\n",
       "      <td>CCU → DEL → COK → BLR</td>\n",
       "      <td>10:00</td>\n",
       "      <td>01:20 02 Apr</td>\n",
       "      <td>15h 20m</td>\n",
       "      <td>2 stops</td>\n",
       "      <td>No info</td>\n",
       "      <td>10408</td>\n",
       "    </tr>\n",
       "    <tr>\n",
       "      <th>...</th>\n",
       "      <td>...</td>\n",
       "      <td>...</td>\n",
       "      <td>...</td>\n",
       "      <td>...</td>\n",
       "      <td>...</td>\n",
       "      <td>...</td>\n",
       "      <td>...</td>\n",
       "      <td>...</td>\n",
       "      <td>...</td>\n",
       "      <td>...</td>\n",
       "      <td>...</td>\n",
       "    </tr>\n",
       "    <tr>\n",
       "      <th>2692</th>\n",
       "      <td>SpiceJet</td>\n",
       "      <td>24/03/2019</td>\n",
       "      <td>Banglore</td>\n",
       "      <td>New Delhi</td>\n",
       "      <td>BLR → DEL</td>\n",
       "      <td>05:45</td>\n",
       "      <td>08:35</td>\n",
       "      <td>2h 50m</td>\n",
       "      <td>non-stop</td>\n",
       "      <td>No check-in baggage included</td>\n",
       "      <td>4273</td>\n",
       "    </tr>\n",
       "    <tr>\n",
       "      <th>2870</th>\n",
       "      <td>SpiceJet</td>\n",
       "      <td>24/03/2019</td>\n",
       "      <td>Banglore</td>\n",
       "      <td>New Delhi</td>\n",
       "      <td>BLR → DEL</td>\n",
       "      <td>05:45</td>\n",
       "      <td>08:35</td>\n",
       "      <td>2h 50m</td>\n",
       "      <td>non-stop</td>\n",
       "      <td>No check-in baggage included</td>\n",
       "      <td>4273</td>\n",
       "    </tr>\n",
       "    <tr>\n",
       "      <th>3711</th>\n",
       "      <td>SpiceJet</td>\n",
       "      <td>24/03/2019</td>\n",
       "      <td>Banglore</td>\n",
       "      <td>New Delhi</td>\n",
       "      <td>BLR → DEL</td>\n",
       "      <td>20:30</td>\n",
       "      <td>23:20</td>\n",
       "      <td>2h 50m</td>\n",
       "      <td>non-stop</td>\n",
       "      <td>No check-in baggage included</td>\n",
       "      <td>3873</td>\n",
       "    </tr>\n",
       "    <tr>\n",
       "      <th>2634</th>\n",
       "      <td>Vistara</td>\n",
       "      <td>24/03/2019</td>\n",
       "      <td>Banglore</td>\n",
       "      <td>New Delhi</td>\n",
       "      <td>BLR → DEL</td>\n",
       "      <td>11:30</td>\n",
       "      <td>14:10</td>\n",
       "      <td>2h 40m</td>\n",
       "      <td>non-stop</td>\n",
       "      <td>No info</td>\n",
       "      <td>5403</td>\n",
       "    </tr>\n",
       "    <tr>\n",
       "      <th>5470</th>\n",
       "      <td>Vistara</td>\n",
       "      <td>24/03/2019</td>\n",
       "      <td>Banglore</td>\n",
       "      <td>New Delhi</td>\n",
       "      <td>BLR → DEL</td>\n",
       "      <td>11:30</td>\n",
       "      <td>14:10</td>\n",
       "      <td>2h 40m</td>\n",
       "      <td>non-stop</td>\n",
       "      <td>No info</td>\n",
       "      <td>5403</td>\n",
       "    </tr>\n",
       "  </tbody>\n",
       "</table>\n",
       "<p>415 rows × 11 columns</p>\n",
       "</div>"
      ],
      "text/plain": [
       "        Airline Date_of_Journey    Source Destination                  Route  \\\n",
       "6321  Air India      01/03/2019  Banglore   New Delhi  BLR → BOM → AMD → DEL   \n",
       "9848  Air India      01/03/2019  Banglore   New Delhi  BLR → BOM → AMD → DEL   \n",
       "572   Air India      03/03/2019  Banglore   New Delhi              BLR → DEL   \n",
       "8168  Air India      03/03/2019  Banglore   New Delhi              BLR → DEL   \n",
       "1495  Air India       1/04/2019   Kolkata    Banglore  CCU → DEL → COK → BLR   \n",
       "...         ...             ...       ...         ...                    ...   \n",
       "2692   SpiceJet      24/03/2019  Banglore   New Delhi              BLR → DEL   \n",
       "2870   SpiceJet      24/03/2019  Banglore   New Delhi              BLR → DEL   \n",
       "3711   SpiceJet      24/03/2019  Banglore   New Delhi              BLR → DEL   \n",
       "2634    Vistara      24/03/2019  Banglore   New Delhi              BLR → DEL   \n",
       "5470    Vistara      24/03/2019  Banglore   New Delhi              BLR → DEL   \n",
       "\n",
       "     Dep_Time  Arrival_Time Duration Total_Stops  \\\n",
       "6321    08:50  23:55 02 Mar   39h 5m     2 stops   \n",
       "9848    08:50  23:55 02 Mar   39h 5m     2 stops   \n",
       "572     21:10         23:55   2h 45m    non-stop   \n",
       "8168    21:10         23:55   2h 45m    non-stop   \n",
       "1495    10:00  01:20 02 Apr  15h 20m     2 stops   \n",
       "...       ...           ...      ...         ...   \n",
       "2692    05:45         08:35   2h 50m    non-stop   \n",
       "2870    05:45         08:35   2h 50m    non-stop   \n",
       "3711    20:30         23:20   2h 50m    non-stop   \n",
       "2634    11:30         14:10   2h 40m    non-stop   \n",
       "5470    11:30         14:10   2h 40m    non-stop   \n",
       "\n",
       "                   Additional_Info  Price  \n",
       "6321                       No info  17135  \n",
       "9848                       No info  17135  \n",
       "572                        No info   7591  \n",
       "8168                       No info   7591  \n",
       "1495                       No info  10408  \n",
       "...                            ...    ...  \n",
       "2692  No check-in baggage included   4273  \n",
       "2870  No check-in baggage included   4273  \n",
       "3711  No check-in baggage included   3873  \n",
       "2634                       No info   5403  \n",
       "5470                       No info   5403  \n",
       "\n",
       "[415 rows x 11 columns]"
      ]
     },
     "execution_count": 26,
     "metadata": {},
     "output_type": "execute_result"
    }
   ],
   "source": [
    "(\n",
    "    flights\n",
    "    .loc[flights.duplicated(keep=False)]\n",
    "    .sort_values(['Airline','Date_of_Journey','Source','Destination'])\n",
    ")"
   ]
  },
  {
   "cell_type": "markdown",
   "id": "eeacbdc8-34a8-42b1-ae64-b0b264293810",
   "metadata": {},
   "source": [
    "### Observations\n",
    "\n",
    "- The data type of `Date_of_Journey`, `Dep_Time` and `Arrival_Time` should be changed to datetime.\n",
    "- The data type of `Duration` and `Total_Stops` is mixed. it should be numeric Type.\n",
    "- The dataset has 220 duplicate rows. These should be removed."
   ]
  },
  {
   "cell_type": "markdown",
   "id": "8fd55108-c072-44a0-98d0-e111dc920b62",
   "metadata": {},
   "source": [
    "## Detailed Analysis"
   ]
  },
  {
   "cell_type": "markdown",
   "id": "1ae2cb5d-ec4f-4467-89f9-8f0d955fe203",
   "metadata": {},
   "source": [
    "### Airline"
   ]
  },
  {
   "cell_type": "code",
   "execution_count": 50,
   "id": "64767419-5555-4409-a24f-8256c78a50e8",
   "metadata": {},
   "outputs": [
    {
     "data": {
      "text/plain": [
       "array(['IndiGo', 'Air India', 'Jet Airways', 'SpiceJet',\n",
       "       'Multiple carriers', 'GoAir', 'Vistara', 'Air Asia',\n",
       "       'Vistara Premium economy', 'Jet Airways Business',\n",
       "       'Multiple carriers Premium economy', 'Trujet'], dtype=object)"
      ]
     },
     "execution_count": 50,
     "metadata": {},
     "output_type": "execute_result"
    }
   ],
   "source": [
    "flights.Airline.unique()"
   ]
  },
  {
   "cell_type": "markdown",
   "id": "727497de-4ad5-4c4e-a0c0-8ee47bd1da04",
   "metadata": {},
   "source": [
    "- Some airlines have inconsistent/inaccurate values"
   ]
  },
  {
   "cell_type": "code",
   "execution_count": 58,
   "id": "aad2ecc5-f1dc-48b8-9d20-a1a430b41156",
   "metadata": {},
   "outputs": [
    {
     "data": {
      "text/plain": [
       "array(['Indigo', 'Air India', 'Jet Airways', 'Spicejet',\n",
       "       'Multiple Carriers', 'Goair', 'Vistara', 'Air Asia', 'Trujet'],\n",
       "      dtype=object)"
      ]
     },
     "execution_count": 58,
     "metadata": {},
     "output_type": "execute_result"
    }
   ],
   "source": [
    "(\n",
    "    flights\n",
    "    .Airline\n",
    "    .str.replace(\" Premium economy\",\"\")\n",
    "    .str.replace(\" Business\",\"\")\n",
    "    .str.title()\n",
    "    .unique()\n",
    ")"
   ]
  },
  {
   "cell_type": "markdown",
   "id": "936de305-5c89-4d2c-915d-a59fad7a4198",
   "metadata": {},
   "source": [
    "### Date_of_Journey"
   ]
  },
  {
   "cell_type": "code",
   "execution_count": 72,
   "id": "878cc3e8-799e-4382-a564-e58ec3e25827",
   "metadata": {},
   "outputs": [
    {
     "data": {
      "text/plain": [
       "0        24/03/2019\n",
       "1         1/05/2019\n",
       "2         9/06/2019\n",
       "3        12/05/2019\n",
       "4        01/03/2019\n",
       "            ...    \n",
       "10678     9/04/2019\n",
       "10679    27/04/2019\n",
       "10680    27/04/2019\n",
       "10681    01/03/2019\n",
       "10682     9/05/2019\n",
       "Name: Date_of_Journey, Length: 10683, dtype: object"
      ]
     },
     "execution_count": 72,
     "metadata": {},
     "output_type": "execute_result"
    }
   ],
   "source": [
    "flights.Date_of_Journey"
   ]
  },
  {
   "cell_type": "code",
   "execution_count": 74,
   "id": "ef51cde7-aa40-486c-9b75-88708183a9d1",
   "metadata": {},
   "outputs": [
    {
     "data": {
      "text/plain": [
       "0       2019-03-24\n",
       "1       2019-05-01\n",
       "2       2019-06-09\n",
       "3       2019-05-12\n",
       "4       2019-03-01\n",
       "           ...    \n",
       "10678   2019-04-09\n",
       "10679   2019-04-27\n",
       "10680   2019-04-27\n",
       "10681   2019-03-01\n",
       "10682   2019-05-09\n",
       "Name: Date_of_Journey, Length: 10683, dtype: datetime64[ns]"
      ]
     },
     "execution_count": 74,
     "metadata": {},
     "output_type": "execute_result"
    }
   ],
   "source": [
    "pd.to_datetime(flights.Date_of_Journey, dayfirst=True)"
   ]
  },
  {
   "cell_type": "markdown",
   "id": "5688d07d-efa1-4994-af4d-432d8915ec9f",
   "metadata": {},
   "source": [
    "### Source"
   ]
  },
  {
   "cell_type": "code",
   "execution_count": 83,
   "id": "47f49cc3-2d50-49b1-b858-8282744ca403",
   "metadata": {},
   "outputs": [
    {
     "data": {
      "text/plain": [
       "array(['Banglore', 'Kolkata', 'Delhi', 'Chennai', 'Mumbai'], dtype=object)"
      ]
     },
     "execution_count": 83,
     "metadata": {},
     "output_type": "execute_result"
    }
   ],
   "source": [
    "flights.Source.unique()"
   ]
  },
  {
   "cell_type": "markdown",
   "id": "c653f302-1b50-41e2-852b-53e893d14c45",
   "metadata": {},
   "source": [
    "### Destination"
   ]
  },
  {
   "cell_type": "code",
   "execution_count": 84,
   "id": "5ba95258-82fb-4b5a-8e5c-a5f0d3f4e8aa",
   "metadata": {},
   "outputs": [
    {
     "data": {
      "text/plain": [
       "array(['New Delhi', 'Banglore', 'Cochin', 'Kolkata', 'Delhi', 'Hyderabad'],\n",
       "      dtype=object)"
      ]
     },
     "execution_count": 84,
     "metadata": {},
     "output_type": "execute_result"
    }
   ],
   "source": [
    "flights.Destination.unique()"
   ]
  },
  {
   "cell_type": "markdown",
   "id": "14b4f82c-f6c6-4a8b-9ba9-1df8ea04331e",
   "metadata": {},
   "source": [
    "### Dep_Time"
   ]
  },
  {
   "cell_type": "code",
   "execution_count": 96,
   "id": "21e4b734-dc9a-4e3e-bc5c-bf87516c1b0d",
   "metadata": {},
   "outputs": [
    {
     "data": {
      "text/plain": [
       "0        22:20\n",
       "1        05:50\n",
       "2        09:25\n",
       "3        18:05\n",
       "4        16:50\n",
       "         ...  \n",
       "10678    19:55\n",
       "10679    20:45\n",
       "10680    08:20\n",
       "10681    11:30\n",
       "10682    10:55\n",
       "Name: Dep_Time, Length: 10683, dtype: object"
      ]
     },
     "execution_count": 96,
     "metadata": {},
     "output_type": "execute_result"
    }
   ],
   "source": [
    "flights.Dep_Time"
   ]
  },
  {
   "cell_type": "code",
   "execution_count": 95,
   "id": "a7efa616-1a70-4b14-8fc1-b6306cbae55e",
   "metadata": {},
   "outputs": [
    {
     "data": {
      "text/plain": [
       "Series([], Name: Dep_Time, dtype: object)"
      ]
     },
     "execution_count": 95,
     "metadata": {},
     "output_type": "execute_result"
    }
   ],
   "source": [
    "(\n",
    "    flights\n",
    "    .Dep_Time\n",
    "    .loc[lambda ser: ser.str.contains(\"[^0-9:]\")]\n",
    ")"
   ]
  },
  {
   "cell_type": "code",
   "execution_count": 99,
   "id": "e614843b-f138-4b74-ad12-ba8ef614530c",
   "metadata": {},
   "outputs": [
    {
     "name": "stderr",
     "output_type": "stream",
     "text": [
      "C:\\Users\\Monil Shah\\AppData\\Local\\Temp\\ipykernel_23644\\1056054517.py:1: UserWarning: Could not infer format, so each element will be parsed individually, falling back to `dateutil`. To ensure parsing is consistent and as-expected, please specify a format.\n",
      "  pd.to_datetime(flights.Dep_Time).dt.time\n"
     ]
    },
    {
     "data": {
      "text/plain": [
       "0        22:20:00\n",
       "1        05:50:00\n",
       "2        09:25:00\n",
       "3        18:05:00\n",
       "4        16:50:00\n",
       "           ...   \n",
       "10678    19:55:00\n",
       "10679    20:45:00\n",
       "10680    08:20:00\n",
       "10681    11:30:00\n",
       "10682    10:55:00\n",
       "Name: Dep_Time, Length: 10683, dtype: object"
      ]
     },
     "execution_count": 99,
     "metadata": {},
     "output_type": "execute_result"
    }
   ],
   "source": [
    "pd.to_datetime(flights.Dep_Time).dt.time"
   ]
  },
  {
   "cell_type": "markdown",
   "id": "1fbab3e8-d752-41ce-a93c-2558bb908a8a",
   "metadata": {},
   "source": [
    "### Arrival_Time"
   ]
  },
  {
   "cell_type": "code",
   "execution_count": 102,
   "id": "4464e6da-c0f5-4846-8a2c-a0e4e3199938",
   "metadata": {},
   "outputs": [
    {
     "data": {
      "text/plain": [
       "0        01:10 22 Mar\n",
       "1               13:15\n",
       "2        04:25 10 Jun\n",
       "3               23:30\n",
       "4               21:35\n",
       "             ...     \n",
       "10678           22:25\n",
       "10679           23:20\n",
       "10680           11:20\n",
       "10681           14:10\n",
       "10682           19:15\n",
       "Name: Arrival_Time, Length: 10683, dtype: object"
      ]
     },
     "execution_count": 102,
     "metadata": {},
     "output_type": "execute_result"
    }
   ],
   "source": [
    "flights.Arrival_Time"
   ]
  },
  {
   "cell_type": "code",
   "execution_count": 110,
   "id": "2b2544f2-f0fe-4e88-9ce9-8a489ce4f9c3",
   "metadata": {},
   "outputs": [
    {
     "data": {
      "text/plain": [
       "array(['22 Mar', '10 Jun', '13 Mar', '02 Mar', '10 May', '04 Mar',\n",
       "       '13 Jun', '28 May', '19 Mar', '07 May', '02 Jun', '16 Jun',\n",
       "       '19 May', '16 May', '28 Jun', '02 May', '28 Mar', '19 Jun',\n",
       "       '04 Apr', '25 Mar', '07 Mar', '25 Jun', '07 Jun', '25 May',\n",
       "       '13 May', '16 Mar', '22 May', '10 Apr', '04 Jun', '20 May',\n",
       "       '28 Apr', '25 Apr', '10 Mar', '19 Apr', '13 Apr', '02 Apr',\n",
       "       '23 Mar', '22 Apr', '11 May', '07 Apr', '03 May', '08 Mar',\n",
       "       '03 Mar', '05 Mar', '22 Jun', '04 May', '26 May', '16 Apr',\n",
       "       '26 Jun', '29 May', '29 Jun', '29 Mar', '23 May', '17 Jun'],\n",
       "      dtype=object)"
      ]
     },
     "execution_count": 110,
     "metadata": {},
     "output_type": "execute_result"
    }
   ],
   "source": [
    "(\n",
    "    flights\n",
    "    .Arrival_Time\n",
    "    .loc[lambda ser : ser.str.contains(\"[^0-9:]\")]\n",
    "    .str.split(\" \",n=1)\n",
    "    .str.get(-1)\n",
    "    .unique()\n",
    ")"
   ]
  },
  {
   "cell_type": "markdown",
   "id": "50b7e902-f1d0-4b6b-b49d-8146e10339b9",
   "metadata": {},
   "source": [
    "- There are no special characters they are just dates"
   ]
  },
  {
   "cell_type": "markdown",
   "id": "c79154ec-01be-4047-9085-4fd78c8a257c",
   "metadata": {},
   "source": [
    "### Duration"
   ]
  },
  {
   "cell_type": "code",
   "execution_count": 116,
   "id": "f23dc020-b0b3-453d-a801-e076145bc863",
   "metadata": {},
   "outputs": [
    {
     "data": {
      "text/plain": [
       "0        2h 50m\n",
       "1        7h 25m\n",
       "2           19h\n",
       "3        5h 25m\n",
       "4        4h 45m\n",
       "          ...  \n",
       "10678    2h 30m\n",
       "10679    2h 35m\n",
       "10680        3h\n",
       "10681    2h 40m\n",
       "10682    8h 20m\n",
       "Name: Duration, Length: 10683, dtype: object"
      ]
     },
     "execution_count": 116,
     "metadata": {},
     "output_type": "execute_result"
    }
   ],
   "source": [
    "flights.Duration"
   ]
  },
  {
   "cell_type": "code",
   "execution_count": 124,
   "id": "c1ee201e-ff2c-4b54-b5bd-a09466b1d0c7",
   "metadata": {},
   "outputs": [
    {
     "data": {
      "text/plain": [
       "array(['19h', '23h', '22h', '12h', '3h', '5h', '10h', '18h', '24h', '15h',\n",
       "       '16h', '8h', '14h', '20h', '13h', '11h', '9h', '27h', '26h', '4h',\n",
       "       '7h', '30h', '21h', '28h', '47h', '6h', '25h', '38h', '34h'],\n",
       "      dtype=object)"
      ]
     },
     "execution_count": 124,
     "metadata": {},
     "output_type": "execute_result"
    }
   ],
   "source": [
    "(\n",
    "    flights\n",
    "    .Duration\n",
    "    .loc[lambda ser: ~ser.str.contains(\"m\")]\n",
    "    .unique()    \n",
    ")"
   ]
  },
  {
   "cell_type": "code",
   "execution_count": 126,
   "id": "f2bc9be2-4c78-47d0-bc86-afa9d521c8b4",
   "metadata": {},
   "outputs": [
    {
     "data": {
      "text/plain": [
       "6474    5m\n",
       "Name: Duration, dtype: object"
      ]
     },
     "execution_count": 126,
     "metadata": {},
     "output_type": "execute_result"
    }
   ],
   "source": [
    "(\n",
    "    flights\n",
    "    .Duration\n",
    "    .loc[lambda ser: ~ser.str.contains(\"h\")]  \n",
    ")"
   ]
  },
  {
   "cell_type": "code",
   "execution_count": 128,
   "id": "9280ca38-e5cd-44c6-8f44-e514c0ea1c1a",
   "metadata": {},
   "outputs": [
    {
     "data": {
      "text/html": [
       "<div>\n",
       "<style scoped>\n",
       "    .dataframe tbody tr th:only-of-type {\n",
       "        vertical-align: middle;\n",
       "    }\n",
       "\n",
       "    .dataframe tbody tr th {\n",
       "        vertical-align: top;\n",
       "    }\n",
       "\n",
       "    .dataframe thead th {\n",
       "        text-align: right;\n",
       "    }\n",
       "</style>\n",
       "<table border=\"1\" class=\"dataframe\">\n",
       "  <thead>\n",
       "    <tr style=\"text-align: right;\">\n",
       "      <th></th>\n",
       "      <th>Airline</th>\n",
       "      <th>Date_of_Journey</th>\n",
       "      <th>Source</th>\n",
       "      <th>Destination</th>\n",
       "      <th>Route</th>\n",
       "      <th>Dep_Time</th>\n",
       "      <th>Arrival_Time</th>\n",
       "      <th>Duration</th>\n",
       "      <th>Total_Stops</th>\n",
       "      <th>Additional_Info</th>\n",
       "      <th>Price</th>\n",
       "    </tr>\n",
       "  </thead>\n",
       "  <tbody>\n",
       "    <tr>\n",
       "      <th>6474</th>\n",
       "      <td>Air India</td>\n",
       "      <td>6/03/2019</td>\n",
       "      <td>Mumbai</td>\n",
       "      <td>Hyderabad</td>\n",
       "      <td>BOM → GOI → PNQ → HYD</td>\n",
       "      <td>16:50</td>\n",
       "      <td>16:55</td>\n",
       "      <td>5m</td>\n",
       "      <td>2 stops</td>\n",
       "      <td>No info</td>\n",
       "      <td>17327</td>\n",
       "    </tr>\n",
       "  </tbody>\n",
       "</table>\n",
       "</div>"
      ],
      "text/plain": [
       "        Airline Date_of_Journey  Source Destination                  Route  \\\n",
       "6474  Air India       6/03/2019  Mumbai   Hyderabad  BOM → GOI → PNQ → HYD   \n",
       "\n",
       "     Dep_Time Arrival_Time Duration Total_Stops Additional_Info  Price  \n",
       "6474    16:50        16:55       5m     2 stops         No info  17327  "
      ]
     },
     "execution_count": 128,
     "metadata": {},
     "output_type": "execute_result"
    }
   ],
   "source": [
    "flights.iloc[[6474]]"
   ]
  },
  {
   "cell_type": "markdown",
   "id": "1726f269-968e-4428-bdff-94011fd660bc",
   "metadata": {},
   "source": [
    "- This observation indexed 6474 has duration of 5 minutes, which is clearly wrong and since we have only one such observation so it's better to delete it."
   ]
  },
  {
   "cell_type": "code",
   "execution_count": 156,
   "id": "5931bcd8-da49-4a6a-a6f7-101ad8684708",
   "metadata": {},
   "outputs": [
    {
     "data": {
      "text/plain": [
       "0         170\n",
       "1         445\n",
       "2        1140\n",
       "3         325\n",
       "4         285\n",
       "         ... \n",
       "10678     150\n",
       "10679     155\n",
       "10680     180\n",
       "10681     160\n",
       "10682     500\n",
       "Length: 10682, dtype: int64"
      ]
     },
     "execution_count": 156,
     "metadata": {},
     "output_type": "execute_result"
    }
   ],
   "source": [
    "(\n",
    "    flights\n",
    "    .Duration\n",
    "    .drop(index=6474)\n",
    "    .str.split(\" \",expand=True)\n",
    "    .set_axis([\"hour\",\"minute\"],axis=1)\n",
    "    .assign(\n",
    "        hour = lambda df_: (\n",
    "            df_\n",
    "            .hour\n",
    "            .str.replace(\"h\",\"\")\n",
    "            .astype(int)\n",
    "            .mul(60)\n",
    "        ),\n",
    "        minute = lambda df_: (\n",
    "            df_\n",
    "            .minute\n",
    "            .str.replace(\"m\",\"\")\n",
    "            .fillna(\"0\")\n",
    "            .astype(int)\n",
    "        )\n",
    "    )\n",
    "    .sum(axis=1)\n",
    ")"
   ]
  },
  {
   "cell_type": "code",
   "execution_count": 160,
   "id": "560d8461-378e-4815-b963-353db3b315d6",
   "metadata": {},
   "outputs": [
    {
     "data": {
      "text/html": [
       "<div>\n",
       "<style scoped>\n",
       "    .dataframe tbody tr th:only-of-type {\n",
       "        vertical-align: middle;\n",
       "    }\n",
       "\n",
       "    .dataframe tbody tr th {\n",
       "        vertical-align: top;\n",
       "    }\n",
       "\n",
       "    .dataframe thead th {\n",
       "        text-align: right;\n",
       "    }\n",
       "</style>\n",
       "<table border=\"1\" class=\"dataframe\">\n",
       "  <thead>\n",
       "    <tr style=\"text-align: right;\">\n",
       "      <th></th>\n",
       "      <th>duration_minutes</th>\n",
       "      <th>Duration</th>\n",
       "    </tr>\n",
       "  </thead>\n",
       "  <tbody>\n",
       "    <tr>\n",
       "      <th>0</th>\n",
       "      <td>170</td>\n",
       "      <td>2h 50m</td>\n",
       "    </tr>\n",
       "    <tr>\n",
       "      <th>1</th>\n",
       "      <td>445</td>\n",
       "      <td>7h 25m</td>\n",
       "    </tr>\n",
       "    <tr>\n",
       "      <th>2</th>\n",
       "      <td>1140</td>\n",
       "      <td>19h</td>\n",
       "    </tr>\n",
       "    <tr>\n",
       "      <th>3</th>\n",
       "      <td>325</td>\n",
       "      <td>5h 25m</td>\n",
       "    </tr>\n",
       "    <tr>\n",
       "      <th>4</th>\n",
       "      <td>285</td>\n",
       "      <td>4h 45m</td>\n",
       "    </tr>\n",
       "    <tr>\n",
       "      <th>...</th>\n",
       "      <td>...</td>\n",
       "      <td>...</td>\n",
       "    </tr>\n",
       "    <tr>\n",
       "      <th>10678</th>\n",
       "      <td>150</td>\n",
       "      <td>2h 30m</td>\n",
       "    </tr>\n",
       "    <tr>\n",
       "      <th>10679</th>\n",
       "      <td>155</td>\n",
       "      <td>2h 35m</td>\n",
       "    </tr>\n",
       "    <tr>\n",
       "      <th>10680</th>\n",
       "      <td>180</td>\n",
       "      <td>3h</td>\n",
       "    </tr>\n",
       "    <tr>\n",
       "      <th>10681</th>\n",
       "      <td>160</td>\n",
       "      <td>2h 40m</td>\n",
       "    </tr>\n",
       "    <tr>\n",
       "      <th>10682</th>\n",
       "      <td>500</td>\n",
       "      <td>8h 20m</td>\n",
       "    </tr>\n",
       "  </tbody>\n",
       "</table>\n",
       "<p>10682 rows × 2 columns</p>\n",
       "</div>"
      ],
      "text/plain": [
       "       duration_minutes Duration\n",
       "0                   170   2h 50m\n",
       "1                   445   7h 25m\n",
       "2                  1140      19h\n",
       "3                   325   5h 25m\n",
       "4                   285   4h 45m\n",
       "...                 ...      ...\n",
       "10678               150   2h 30m\n",
       "10679               155   2h 35m\n",
       "10680               180       3h\n",
       "10681               160   2h 40m\n",
       "10682               500   8h 20m\n",
       "\n",
       "[10682 rows x 2 columns]"
      ]
     },
     "execution_count": 160,
     "metadata": {},
     "output_type": "execute_result"
    }
   ],
   "source": [
    "(\n",
    "    flights\n",
    "    .Duration\n",
    "    .drop(index=6474)\n",
    "    .str.split(\" \",expand=True)\n",
    "    .set_axis([\"hour\",\"minute\"],axis=1)\n",
    "    .assign(\n",
    "        hour = lambda df_: (\n",
    "            df_\n",
    "            .hour\n",
    "            .str.replace(\"h\",\"\")\n",
    "            .astype(int)\n",
    "            .mul(60)\n",
    "        ),\n",
    "        minute = lambda df_: (\n",
    "            df_\n",
    "            .minute\n",
    "            .str.replace(\"m\",\"\")\n",
    "            .fillna(\"0\")\n",
    "            .astype(int)\n",
    "        )\n",
    "    )\n",
    "    .sum(axis=1)\n",
    "    .rename(\"duration_minutes\")      #for validation\n",
    "    .to_frame()\n",
    "    .join(flights.Duration.drop(index=6474))\n",
    ")"
   ]
  },
  {
   "cell_type": "markdown",
   "id": "87f971e0-86b0-4ba4-964f-9aa5661ed54d",
   "metadata": {},
   "source": [
    "### Total_Stops"
   ]
  },
  {
   "cell_type": "code",
   "execution_count": 165,
   "id": "91583727-f8ae-4e04-84c0-042ca5defc63",
   "metadata": {},
   "outputs": [
    {
     "data": {
      "text/plain": [
       "array(['non-stop', '2 stops', '1 stop', '3 stops', nan, '4 stops'],\n",
       "      dtype=object)"
      ]
     },
     "execution_count": 165,
     "metadata": {},
     "output_type": "execute_result"
    }
   ],
   "source": [
    "flights.Total_Stops.unique()"
   ]
  },
  {
   "cell_type": "code",
   "execution_count": 182,
   "id": "f9d81a1c-830b-410a-a7a7-09a7e814d964",
   "metadata": {},
   "outputs": [
    {
     "data": {
      "text/plain": [
       "array([ 0.,  2.,  1.,  3., nan,  4.])"
      ]
     },
     "execution_count": 182,
     "metadata": {},
     "output_type": "execute_result"
    }
   ],
   "source": [
    "(\n",
    "    flights\n",
    "    .Total_Stops\n",
    "    .replace(\"non-stop\",\"0\")\n",
    "    .str.replace(\" stops?\",\"\",regex=True)  #with regex last s becomes optional because of ?\n",
    "    .pipe(lambda ser: pd.to_numeric(ser))\n",
    "    .unique()\n",
    ")"
   ]
  },
  {
   "cell_type": "markdown",
   "id": "28c212ce-bf25-4a83-9b47-1ed0cf591a73",
   "metadata": {},
   "source": [
    "### Additional_Info"
   ]
  },
  {
   "cell_type": "code",
   "execution_count": 186,
   "id": "8b2eb621-663e-42ea-af6b-422b7ef3d823",
   "metadata": {},
   "outputs": [
    {
     "data": {
      "text/plain": [
       "array(['No info', 'In-flight meal not included',\n",
       "       'No check-in baggage included', '1 Short layover', 'No Info',\n",
       "       '1 Long layover', 'Change airports', 'Business class',\n",
       "       'Red-eye flight', '2 Long layover'], dtype=object)"
      ]
     },
     "execution_count": 186,
     "metadata": {},
     "output_type": "execute_result"
    }
   ],
   "source": [
    "flights.Additional_Info.unique()"
   ]
  },
  {
   "cell_type": "code",
   "execution_count": 189,
   "id": "31dc512b-c0f9-4555-8254-248531a1c169",
   "metadata": {},
   "outputs": [
    {
     "data": {
      "text/plain": [
       "array(['No Info', 'In-flight meal not included',\n",
       "       'No check-in baggage included', '1 Short layover',\n",
       "       '1 Long layover', 'Change airports', 'Business class',\n",
       "       'Red-eye flight', '2 Long layover'], dtype=object)"
      ]
     },
     "execution_count": 189,
     "metadata": {},
     "output_type": "execute_result"
    }
   ],
   "source": [
    "flights.Additional_Info.replace(\"No info\",\"No Info\").unique()"
   ]
  },
  {
   "cell_type": "markdown",
   "id": "496f5d16-9565-4c04-aac0-2319c8c21844",
   "metadata": {},
   "source": [
    "### BEST practices\n",
    "\n",
    "- Method chaining\n",
    "- Do not over write existing columns instead create a new one \n"
   ]
  },
  {
   "cell_type": "code",
   "execution_count": 46,
   "id": "6c3248e7-3c92-4667-bd53-15031d15c9ce",
   "metadata": {},
   "outputs": [
    {
     "data": {
      "text/plain": [
       "Index(['Airline', 'Date_of_Journey', 'Source', 'Destination', 'Route',\n",
       "       'Dep_Time', 'Arrival_Time', 'Duration', 'Total_Stops',\n",
       "       'Additional_Info'],\n",
       "      dtype='object')"
      ]
     },
     "execution_count": 46,
     "metadata": {},
     "output_type": "execute_result"
    }
   ],
   "source": [
    "flights.select_dtypes(include=\"O\").columns"
   ]
  },
  {
   "cell_type": "markdown",
   "id": "371afcdc-b704-4dee-b227-ea0f7d268ed9",
   "metadata": {},
   "source": [
    "## Cleaning Opearations"
   ]
  },
  {
   "cell_type": "code",
   "execution_count": 161,
   "id": "301d2936-532e-4d09-b935-3d810efec930",
   "metadata": {},
   "outputs": [],
   "source": [
    "def convert_to_minutes(ser):\n",
    "    return (\n",
    "        ser\n",
    "        .str.split(\" \",expand=True)\n",
    "        .set_axis([\"hour\",\"minute\"],axis=1)\n",
    "        .assign(\n",
    "            hour = lambda df_: (\n",
    "                df_\n",
    "                .hour\n",
    "                .str.replace(\"h\",\"\")\n",
    "                .astype(int)\n",
    "                .mul(60)\n",
    "            ),\n",
    "            minute = lambda df_: (\n",
    "                df_\n",
    "                .minute\n",
    "                .str.replace(\"m\",\"\")\n",
    "                .fillna(\"0\")\n",
    "                .astype(int)\n",
    "            )\n",
    "        )\n",
    "        .sum(axis=1)\n",
    "    )\n",
    "    \n",
    "        "
   ]
  },
  {
   "cell_type": "code",
   "execution_count": 193,
   "id": "2b9defa8-dee2-4464-b2f6-af7dcd717987",
   "metadata": {},
   "outputs": [],
   "source": [
    "def clean_data(df):\n",
    "    return(\n",
    "        df\n",
    "        .drop(index=[6474])\n",
    "        .drop_duplicates()\n",
    "        .assign(**{\n",
    "            col: df[col].str.strip()\n",
    "            for col in df.select_dtypes(include=\"O\").columns\n",
    "        })\n",
    "        .rename(columns=str.lower)\n",
    "        .assign(\n",
    "            airline=lambda df_: (\n",
    "                df_\n",
    "                .airline\n",
    "                .str.replace(\" Premium economy\",\"\")\n",
    "                .str.replace(\" Business\",\"\")\n",
    "                .str.title()\n",
    "            ),\n",
    "            date_of_journey=lambda df_: pd.to_datetime(df_.date_of_journey,dayfirst=True),\n",
    "            dep_time=lambda df_: pd.to_datetime(df_.dep_time).dt.time,\n",
    "            arrival_time=lambda df_: pd.to_datetime(df_.arrival_time).dt.time,\n",
    "            duration=lambda df_: df_.duration.pipe(convert_to_minutes),\n",
    "            total_stops=lambda df_: (\n",
    "                df_\n",
    "                .total_stops\n",
    "                .replace(\"non-stop\",\"0\")\n",
    "                .str.replace(\" stops?\",\"\",regex=True)\n",
    "                .pipe(lambda ser: pd.to_numeric(ser))\n",
    "            ),\n",
    "            additional_info=lambda df_: df_.additional_info.replace(\"No info\",\"No Info\")\n",
    "        )\n",
    "        .drop(columns=\"route\")\n",
    "    )"
   ]
  },
  {
   "cell_type": "code",
   "execution_count": 195,
   "id": "1e9f3f79-470a-41e2-bd6e-6426a2cd11dd",
   "metadata": {},
   "outputs": [
    {
     "name": "stderr",
     "output_type": "stream",
     "text": [
      "C:\\Users\\Monil Shah\\AppData\\Local\\Temp\\ipykernel_23644\\3624115277.py:20: UserWarning: Could not infer format, so each element will be parsed individually, falling back to `dateutil`. To ensure parsing is consistent and as-expected, please specify a format.\n",
      "  dep_time=lambda df_: pd.to_datetime(df_.dep_time).dt.time,\n",
      "C:\\Users\\Monil Shah\\AppData\\Local\\Temp\\ipykernel_23644\\3624115277.py:21: UserWarning: Could not infer format, so each element will be parsed individually, falling back to `dateutil`. To ensure parsing is consistent and as-expected, please specify a format.\n",
      "  arrival_time=lambda df_: pd.to_datetime(df_.arrival_time).dt.time,\n"
     ]
    },
    {
     "data": {
      "text/html": [
       "<div>\n",
       "<style scoped>\n",
       "    .dataframe tbody tr th:only-of-type {\n",
       "        vertical-align: middle;\n",
       "    }\n",
       "\n",
       "    .dataframe tbody tr th {\n",
       "        vertical-align: top;\n",
       "    }\n",
       "\n",
       "    .dataframe thead th {\n",
       "        text-align: right;\n",
       "    }\n",
       "</style>\n",
       "<table border=\"1\" class=\"dataframe\">\n",
       "  <thead>\n",
       "    <tr style=\"text-align: right;\">\n",
       "      <th></th>\n",
       "      <th>airline</th>\n",
       "      <th>date_of_journey</th>\n",
       "      <th>source</th>\n",
       "      <th>destination</th>\n",
       "      <th>dep_time</th>\n",
       "      <th>arrival_time</th>\n",
       "      <th>duration</th>\n",
       "      <th>total_stops</th>\n",
       "      <th>additional_info</th>\n",
       "      <th>price</th>\n",
       "    </tr>\n",
       "  </thead>\n",
       "  <tbody>\n",
       "    <tr>\n",
       "      <th>0</th>\n",
       "      <td>Indigo</td>\n",
       "      <td>2019-03-24</td>\n",
       "      <td>Banglore</td>\n",
       "      <td>New Delhi</td>\n",
       "      <td>22:20:00</td>\n",
       "      <td>01:10:00</td>\n",
       "      <td>170</td>\n",
       "      <td>0.0</td>\n",
       "      <td>No Info</td>\n",
       "      <td>3897</td>\n",
       "    </tr>\n",
       "    <tr>\n",
       "      <th>1</th>\n",
       "      <td>Air India</td>\n",
       "      <td>2019-05-01</td>\n",
       "      <td>Kolkata</td>\n",
       "      <td>Banglore</td>\n",
       "      <td>05:50:00</td>\n",
       "      <td>13:15:00</td>\n",
       "      <td>445</td>\n",
       "      <td>2.0</td>\n",
       "      <td>No Info</td>\n",
       "      <td>7662</td>\n",
       "    </tr>\n",
       "    <tr>\n",
       "      <th>2</th>\n",
       "      <td>Jet Airways</td>\n",
       "      <td>2019-06-09</td>\n",
       "      <td>Delhi</td>\n",
       "      <td>Cochin</td>\n",
       "      <td>09:25:00</td>\n",
       "      <td>04:25:00</td>\n",
       "      <td>1140</td>\n",
       "      <td>2.0</td>\n",
       "      <td>No Info</td>\n",
       "      <td>13882</td>\n",
       "    </tr>\n",
       "    <tr>\n",
       "      <th>3</th>\n",
       "      <td>Indigo</td>\n",
       "      <td>2019-05-12</td>\n",
       "      <td>Kolkata</td>\n",
       "      <td>Banglore</td>\n",
       "      <td>18:05:00</td>\n",
       "      <td>23:30:00</td>\n",
       "      <td>325</td>\n",
       "      <td>1.0</td>\n",
       "      <td>No Info</td>\n",
       "      <td>6218</td>\n",
       "    </tr>\n",
       "    <tr>\n",
       "      <th>4</th>\n",
       "      <td>Indigo</td>\n",
       "      <td>2019-03-01</td>\n",
       "      <td>Banglore</td>\n",
       "      <td>New Delhi</td>\n",
       "      <td>16:50:00</td>\n",
       "      <td>21:35:00</td>\n",
       "      <td>285</td>\n",
       "      <td>1.0</td>\n",
       "      <td>No Info</td>\n",
       "      <td>13302</td>\n",
       "    </tr>\n",
       "    <tr>\n",
       "      <th>...</th>\n",
       "      <td>...</td>\n",
       "      <td>...</td>\n",
       "      <td>...</td>\n",
       "      <td>...</td>\n",
       "      <td>...</td>\n",
       "      <td>...</td>\n",
       "      <td>...</td>\n",
       "      <td>...</td>\n",
       "      <td>...</td>\n",
       "      <td>...</td>\n",
       "    </tr>\n",
       "    <tr>\n",
       "      <th>10678</th>\n",
       "      <td>Air Asia</td>\n",
       "      <td>2019-04-09</td>\n",
       "      <td>Kolkata</td>\n",
       "      <td>Banglore</td>\n",
       "      <td>19:55:00</td>\n",
       "      <td>22:25:00</td>\n",
       "      <td>150</td>\n",
       "      <td>0.0</td>\n",
       "      <td>No Info</td>\n",
       "      <td>4107</td>\n",
       "    </tr>\n",
       "    <tr>\n",
       "      <th>10679</th>\n",
       "      <td>Air India</td>\n",
       "      <td>2019-04-27</td>\n",
       "      <td>Kolkata</td>\n",
       "      <td>Banglore</td>\n",
       "      <td>20:45:00</td>\n",
       "      <td>23:20:00</td>\n",
       "      <td>155</td>\n",
       "      <td>0.0</td>\n",
       "      <td>No Info</td>\n",
       "      <td>4145</td>\n",
       "    </tr>\n",
       "    <tr>\n",
       "      <th>10680</th>\n",
       "      <td>Jet Airways</td>\n",
       "      <td>2019-04-27</td>\n",
       "      <td>Banglore</td>\n",
       "      <td>Delhi</td>\n",
       "      <td>08:20:00</td>\n",
       "      <td>11:20:00</td>\n",
       "      <td>180</td>\n",
       "      <td>0.0</td>\n",
       "      <td>No Info</td>\n",
       "      <td>7229</td>\n",
       "    </tr>\n",
       "    <tr>\n",
       "      <th>10681</th>\n",
       "      <td>Vistara</td>\n",
       "      <td>2019-03-01</td>\n",
       "      <td>Banglore</td>\n",
       "      <td>New Delhi</td>\n",
       "      <td>11:30:00</td>\n",
       "      <td>14:10:00</td>\n",
       "      <td>160</td>\n",
       "      <td>0.0</td>\n",
       "      <td>No Info</td>\n",
       "      <td>12648</td>\n",
       "    </tr>\n",
       "    <tr>\n",
       "      <th>10682</th>\n",
       "      <td>Air India</td>\n",
       "      <td>2019-05-09</td>\n",
       "      <td>Delhi</td>\n",
       "      <td>Cochin</td>\n",
       "      <td>10:55:00</td>\n",
       "      <td>19:15:00</td>\n",
       "      <td>500</td>\n",
       "      <td>2.0</td>\n",
       "      <td>No Info</td>\n",
       "      <td>11753</td>\n",
       "    </tr>\n",
       "  </tbody>\n",
       "</table>\n",
       "<p>10462 rows × 10 columns</p>\n",
       "</div>"
      ],
      "text/plain": [
       "           airline date_of_journey    source destination  dep_time  \\\n",
       "0           Indigo      2019-03-24  Banglore   New Delhi  22:20:00   \n",
       "1        Air India      2019-05-01   Kolkata    Banglore  05:50:00   \n",
       "2      Jet Airways      2019-06-09     Delhi      Cochin  09:25:00   \n",
       "3           Indigo      2019-05-12   Kolkata    Banglore  18:05:00   \n",
       "4           Indigo      2019-03-01  Banglore   New Delhi  16:50:00   \n",
       "...            ...             ...       ...         ...       ...   \n",
       "10678     Air Asia      2019-04-09   Kolkata    Banglore  19:55:00   \n",
       "10679    Air India      2019-04-27   Kolkata    Banglore  20:45:00   \n",
       "10680  Jet Airways      2019-04-27  Banglore       Delhi  08:20:00   \n",
       "10681      Vistara      2019-03-01  Banglore   New Delhi  11:30:00   \n",
       "10682    Air India      2019-05-09     Delhi      Cochin  10:55:00   \n",
       "\n",
       "      arrival_time  duration  total_stops additional_info  price  \n",
       "0         01:10:00       170          0.0         No Info   3897  \n",
       "1         13:15:00       445          2.0         No Info   7662  \n",
       "2         04:25:00      1140          2.0         No Info  13882  \n",
       "3         23:30:00       325          1.0         No Info   6218  \n",
       "4         21:35:00       285          1.0         No Info  13302  \n",
       "...            ...       ...          ...             ...    ...  \n",
       "10678     22:25:00       150          0.0         No Info   4107  \n",
       "10679     23:20:00       155          0.0         No Info   4145  \n",
       "10680     11:20:00       180          0.0         No Info   7229  \n",
       "10681     14:10:00       160          0.0         No Info  12648  \n",
       "10682     19:15:00       500          2.0         No Info  11753  \n",
       "\n",
       "[10462 rows x 10 columns]"
      ]
     },
     "execution_count": 195,
     "metadata": {},
     "output_type": "execute_result"
    }
   ],
   "source": [
    "flights_cleaned = clean_data(flights)\n",
    "flights_cleaned"
   ]
  },
  {
   "cell_type": "markdown",
   "id": "8de8cf9f-6fe5-4b50-957b-cbcb52224977",
   "metadata": {},
   "source": [
    "## Splitting Data "
   ]
  },
  {
   "cell_type": "code",
   "execution_count": 205,
   "id": "67a5fbe6-f4e5-446b-8f02-fe0933425ea7",
   "metadata": {},
   "outputs": [],
   "source": [
    "## If need sample the dataset to reduce training time on sage maker since we are doing for learning purpose only\n",
    "# flights_cleaned.sample(1000)"
   ]
  },
  {
   "cell_type": "code",
   "execution_count": 197,
   "id": "63cd499d-310e-45ea-a5dc-55085b688f61",
   "metadata": {},
   "outputs": [],
   "source": [
    "X = flights_cleaned.drop(columns=\"price\")\n",
    "y = flights_cleaned.price.copy()"
   ]
  },
  {
   "cell_type": "code",
   "execution_count": 198,
   "id": "77d6d329-8ce6-4aaf-9ca4-0597c63b2ade",
   "metadata": {},
   "outputs": [],
   "source": [
    "X_, X_test, y_, y_test = train_test_split(X,y,test_size=0.2,random_state=9)\n",
    "X_train, X_val, y_train, y_val = train_test_split(X_,y_,test_size=0.2,random_state=9)"
   ]
  },
  {
   "cell_type": "code",
   "execution_count": 204,
   "id": "0819c6a0-b5fe-4023-afad-33fafac95f6c",
   "metadata": {},
   "outputs": [
    {
     "name": "stdout",
     "output_type": "stream",
     "text": [
      "(6695, 9) (6695,)\n",
      "(1674, 9) (1674,)\n",
      "(2093, 9) (2093,)\n"
     ]
    }
   ],
   "source": [
    "print(X_train.shape,y_train.shape)\n",
    "print(X_val.shape,y_val.shape)\n",
    "print(X_test.shape,y_test.shape)"
   ]
  },
  {
   "cell_type": "markdown",
   "id": "20cea185-df97-40dc-84a0-f3e693455463",
   "metadata": {},
   "source": [
    "## Exporting subsets"
   ]
  },
  {
   "cell_type": "code",
   "execution_count": 206,
   "id": "f5f017f7-7e3b-4594-88bb-38e7c83bceb3",
   "metadata": {},
   "outputs": [],
   "source": [
    "def export_data(X,y,name):\n",
    "    file_name = f\"{name}.csv\"\n",
    "    file_path = os.path.join(PROJECT_DIR,DATA_DIR,file_name)\n",
    "    \n",
    "    X.join(y).to_csv(file_path,index=False)\n",
    "\n",
    "    return pd.read_csv(file_path).head()"
   ]
  },
  {
   "cell_type": "code",
   "execution_count": 207,
   "id": "6cb2d8e4-463e-41cf-a5d1-2754f212b768",
   "metadata": {},
   "outputs": [
    {
     "data": {
      "text/html": [
       "<div>\n",
       "<style scoped>\n",
       "    .dataframe tbody tr th:only-of-type {\n",
       "        vertical-align: middle;\n",
       "    }\n",
       "\n",
       "    .dataframe tbody tr th {\n",
       "        vertical-align: top;\n",
       "    }\n",
       "\n",
       "    .dataframe thead th {\n",
       "        text-align: right;\n",
       "    }\n",
       "</style>\n",
       "<table border=\"1\" class=\"dataframe\">\n",
       "  <thead>\n",
       "    <tr style=\"text-align: right;\">\n",
       "      <th></th>\n",
       "      <th>airline</th>\n",
       "      <th>date_of_journey</th>\n",
       "      <th>source</th>\n",
       "      <th>destination</th>\n",
       "      <th>dep_time</th>\n",
       "      <th>arrival_time</th>\n",
       "      <th>duration</th>\n",
       "      <th>total_stops</th>\n",
       "      <th>additional_info</th>\n",
       "      <th>price</th>\n",
       "    </tr>\n",
       "  </thead>\n",
       "  <tbody>\n",
       "    <tr>\n",
       "      <th>0</th>\n",
       "      <td>Air India</td>\n",
       "      <td>2019-06-03</td>\n",
       "      <td>Delhi</td>\n",
       "      <td>Cochin</td>\n",
       "      <td>13:15:00</td>\n",
       "      <td>09:25:00</td>\n",
       "      <td>1210</td>\n",
       "      <td>2.0</td>\n",
       "      <td>No Info</td>\n",
       "      <td>10467</td>\n",
       "    </tr>\n",
       "    <tr>\n",
       "      <th>1</th>\n",
       "      <td>Jet Airways</td>\n",
       "      <td>2019-05-27</td>\n",
       "      <td>Delhi</td>\n",
       "      <td>Cochin</td>\n",
       "      <td>19:15:00</td>\n",
       "      <td>04:25:00</td>\n",
       "      <td>550</td>\n",
       "      <td>1.0</td>\n",
       "      <td>In-flight meal not included</td>\n",
       "      <td>12898</td>\n",
       "    </tr>\n",
       "    <tr>\n",
       "      <th>2</th>\n",
       "      <td>Jet Airways</td>\n",
       "      <td>2019-05-21</td>\n",
       "      <td>Kolkata</td>\n",
       "      <td>Banglore</td>\n",
       "      <td>06:30:00</td>\n",
       "      <td>19:50:00</td>\n",
       "      <td>800</td>\n",
       "      <td>1.0</td>\n",
       "      <td>No Info</td>\n",
       "      <td>14781</td>\n",
       "    </tr>\n",
       "    <tr>\n",
       "      <th>3</th>\n",
       "      <td>Jet Airways</td>\n",
       "      <td>2019-05-18</td>\n",
       "      <td>Delhi</td>\n",
       "      <td>Cochin</td>\n",
       "      <td>11:00:00</td>\n",
       "      <td>14:15:00</td>\n",
       "      <td>195</td>\n",
       "      <td>0.0</td>\n",
       "      <td>No Info</td>\n",
       "      <td>9564</td>\n",
       "    </tr>\n",
       "    <tr>\n",
       "      <th>4</th>\n",
       "      <td>Air India</td>\n",
       "      <td>2019-05-15</td>\n",
       "      <td>Kolkata</td>\n",
       "      <td>Banglore</td>\n",
       "      <td>14:15:00</td>\n",
       "      <td>16:45:00</td>\n",
       "      <td>150</td>\n",
       "      <td>0.0</td>\n",
       "      <td>No Info</td>\n",
       "      <td>5510</td>\n",
       "    </tr>\n",
       "  </tbody>\n",
       "</table>\n",
       "</div>"
      ],
      "text/plain": [
       "       airline date_of_journey   source destination  dep_time arrival_time  \\\n",
       "0    Air India      2019-06-03    Delhi      Cochin  13:15:00     09:25:00   \n",
       "1  Jet Airways      2019-05-27    Delhi      Cochin  19:15:00     04:25:00   \n",
       "2  Jet Airways      2019-05-21  Kolkata    Banglore  06:30:00     19:50:00   \n",
       "3  Jet Airways      2019-05-18    Delhi      Cochin  11:00:00     14:15:00   \n",
       "4    Air India      2019-05-15  Kolkata    Banglore  14:15:00     16:45:00   \n",
       "\n",
       "   duration  total_stops              additional_info  price  \n",
       "0      1210          2.0                      No Info  10467  \n",
       "1       550          1.0  In-flight meal not included  12898  \n",
       "2       800          1.0                      No Info  14781  \n",
       "3       195          0.0                      No Info   9564  \n",
       "4       150          0.0                      No Info   5510  "
      ]
     },
     "execution_count": 207,
     "metadata": {},
     "output_type": "execute_result"
    }
   ],
   "source": [
    "export_data(X_train,y_train,\"train\")"
   ]
  },
  {
   "cell_type": "code",
   "execution_count": 208,
   "id": "a9f18012-e103-4f01-a0bb-d047cc4e6f88",
   "metadata": {},
   "outputs": [
    {
     "data": {
      "text/html": [
       "<div>\n",
       "<style scoped>\n",
       "    .dataframe tbody tr th:only-of-type {\n",
       "        vertical-align: middle;\n",
       "    }\n",
       "\n",
       "    .dataframe tbody tr th {\n",
       "        vertical-align: top;\n",
       "    }\n",
       "\n",
       "    .dataframe thead th {\n",
       "        text-align: right;\n",
       "    }\n",
       "</style>\n",
       "<table border=\"1\" class=\"dataframe\">\n",
       "  <thead>\n",
       "    <tr style=\"text-align: right;\">\n",
       "      <th></th>\n",
       "      <th>airline</th>\n",
       "      <th>date_of_journey</th>\n",
       "      <th>source</th>\n",
       "      <th>destination</th>\n",
       "      <th>dep_time</th>\n",
       "      <th>arrival_time</th>\n",
       "      <th>duration</th>\n",
       "      <th>total_stops</th>\n",
       "      <th>additional_info</th>\n",
       "      <th>price</th>\n",
       "    </tr>\n",
       "  </thead>\n",
       "  <tbody>\n",
       "    <tr>\n",
       "      <th>0</th>\n",
       "      <td>Indigo</td>\n",
       "      <td>2019-06-12</td>\n",
       "      <td>Chennai</td>\n",
       "      <td>Kolkata</td>\n",
       "      <td>05:15:00</td>\n",
       "      <td>07:40:00</td>\n",
       "      <td>145</td>\n",
       "      <td>0.0</td>\n",
       "      <td>No Info</td>\n",
       "      <td>3540</td>\n",
       "    </tr>\n",
       "    <tr>\n",
       "      <th>1</th>\n",
       "      <td>Spicejet</td>\n",
       "      <td>2019-03-24</td>\n",
       "      <td>Chennai</td>\n",
       "      <td>Kolkata</td>\n",
       "      <td>08:20:00</td>\n",
       "      <td>10:35:00</td>\n",
       "      <td>135</td>\n",
       "      <td>0.0</td>\n",
       "      <td>No Info</td>\n",
       "      <td>3859</td>\n",
       "    </tr>\n",
       "    <tr>\n",
       "      <th>2</th>\n",
       "      <td>Air Asia</td>\n",
       "      <td>2019-05-09</td>\n",
       "      <td>Kolkata</td>\n",
       "      <td>Banglore</td>\n",
       "      <td>19:55:00</td>\n",
       "      <td>23:30:00</td>\n",
       "      <td>215</td>\n",
       "      <td>1.0</td>\n",
       "      <td>No Info</td>\n",
       "      <td>5162</td>\n",
       "    </tr>\n",
       "    <tr>\n",
       "      <th>3</th>\n",
       "      <td>Indigo</td>\n",
       "      <td>2019-05-27</td>\n",
       "      <td>Chennai</td>\n",
       "      <td>Kolkata</td>\n",
       "      <td>13:15:00</td>\n",
       "      <td>15:35:00</td>\n",
       "      <td>140</td>\n",
       "      <td>0.0</td>\n",
       "      <td>No Info</td>\n",
       "      <td>3597</td>\n",
       "    </tr>\n",
       "    <tr>\n",
       "      <th>4</th>\n",
       "      <td>Air India</td>\n",
       "      <td>2019-05-09</td>\n",
       "      <td>Delhi</td>\n",
       "      <td>Cochin</td>\n",
       "      <td>06:05:00</td>\n",
       "      <td>09:25:00</td>\n",
       "      <td>1640</td>\n",
       "      <td>1.0</td>\n",
       "      <td>No Info</td>\n",
       "      <td>7480</td>\n",
       "    </tr>\n",
       "  </tbody>\n",
       "</table>\n",
       "</div>"
      ],
      "text/plain": [
       "     airline date_of_journey   source destination  dep_time arrival_time  \\\n",
       "0     Indigo      2019-06-12  Chennai     Kolkata  05:15:00     07:40:00   \n",
       "1   Spicejet      2019-03-24  Chennai     Kolkata  08:20:00     10:35:00   \n",
       "2   Air Asia      2019-05-09  Kolkata    Banglore  19:55:00     23:30:00   \n",
       "3     Indigo      2019-05-27  Chennai     Kolkata  13:15:00     15:35:00   \n",
       "4  Air India      2019-05-09    Delhi      Cochin  06:05:00     09:25:00   \n",
       "\n",
       "   duration  total_stops additional_info  price  \n",
       "0       145          0.0         No Info   3540  \n",
       "1       135          0.0         No Info   3859  \n",
       "2       215          1.0         No Info   5162  \n",
       "3       140          0.0         No Info   3597  \n",
       "4      1640          1.0         No Info   7480  "
      ]
     },
     "execution_count": 208,
     "metadata": {},
     "output_type": "execute_result"
    }
   ],
   "source": [
    "export_data(X_val,y_val,\"validation\")"
   ]
  },
  {
   "cell_type": "code",
   "execution_count": 209,
   "id": "a0bb1e5a-a9b8-4c12-b533-b16078bebc78",
   "metadata": {},
   "outputs": [
    {
     "data": {
      "text/html": [
       "<div>\n",
       "<style scoped>\n",
       "    .dataframe tbody tr th:only-of-type {\n",
       "        vertical-align: middle;\n",
       "    }\n",
       "\n",
       "    .dataframe tbody tr th {\n",
       "        vertical-align: top;\n",
       "    }\n",
       "\n",
       "    .dataframe thead th {\n",
       "        text-align: right;\n",
       "    }\n",
       "</style>\n",
       "<table border=\"1\" class=\"dataframe\">\n",
       "  <thead>\n",
       "    <tr style=\"text-align: right;\">\n",
       "      <th></th>\n",
       "      <th>airline</th>\n",
       "      <th>date_of_journey</th>\n",
       "      <th>source</th>\n",
       "      <th>destination</th>\n",
       "      <th>dep_time</th>\n",
       "      <th>arrival_time</th>\n",
       "      <th>duration</th>\n",
       "      <th>total_stops</th>\n",
       "      <th>additional_info</th>\n",
       "      <th>price</th>\n",
       "    </tr>\n",
       "  </thead>\n",
       "  <tbody>\n",
       "    <tr>\n",
       "      <th>0</th>\n",
       "      <td>Air India</td>\n",
       "      <td>2019-05-24</td>\n",
       "      <td>Kolkata</td>\n",
       "      <td>Banglore</td>\n",
       "      <td>10:00:00</td>\n",
       "      <td>01:20:00</td>\n",
       "      <td>920</td>\n",
       "      <td>2.0</td>\n",
       "      <td>No Info</td>\n",
       "      <td>14083</td>\n",
       "    </tr>\n",
       "    <tr>\n",
       "      <th>1</th>\n",
       "      <td>Indigo</td>\n",
       "      <td>2019-03-12</td>\n",
       "      <td>Kolkata</td>\n",
       "      <td>Banglore</td>\n",
       "      <td>21:25:00</td>\n",
       "      <td>00:05:00</td>\n",
       "      <td>160</td>\n",
       "      <td>0.0</td>\n",
       "      <td>No Info</td>\n",
       "      <td>4148</td>\n",
       "    </tr>\n",
       "    <tr>\n",
       "      <th>2</th>\n",
       "      <td>Multiple Carriers</td>\n",
       "      <td>2019-03-09</td>\n",
       "      <td>Delhi</td>\n",
       "      <td>Cochin</td>\n",
       "      <td>07:30:00</td>\n",
       "      <td>19:45:00</td>\n",
       "      <td>735</td>\n",
       "      <td>1.0</td>\n",
       "      <td>No Info</td>\n",
       "      <td>12615</td>\n",
       "    </tr>\n",
       "    <tr>\n",
       "      <th>3</th>\n",
       "      <td>Air India</td>\n",
       "      <td>2019-05-21</td>\n",
       "      <td>Mumbai</td>\n",
       "      <td>Hyderabad</td>\n",
       "      <td>21:05:00</td>\n",
       "      <td>22:25:00</td>\n",
       "      <td>80</td>\n",
       "      <td>0.0</td>\n",
       "      <td>No Info</td>\n",
       "      <td>3100</td>\n",
       "    </tr>\n",
       "    <tr>\n",
       "      <th>4</th>\n",
       "      <td>Jet Airways</td>\n",
       "      <td>2019-05-01</td>\n",
       "      <td>Kolkata</td>\n",
       "      <td>Banglore</td>\n",
       "      <td>21:10:00</td>\n",
       "      <td>10:05:00</td>\n",
       "      <td>775</td>\n",
       "      <td>1.0</td>\n",
       "      <td>In-flight meal not included</td>\n",
       "      <td>10844</td>\n",
       "    </tr>\n",
       "  </tbody>\n",
       "</table>\n",
       "</div>"
      ],
      "text/plain": [
       "             airline date_of_journey   source destination  dep_time  \\\n",
       "0          Air India      2019-05-24  Kolkata    Banglore  10:00:00   \n",
       "1             Indigo      2019-03-12  Kolkata    Banglore  21:25:00   \n",
       "2  Multiple Carriers      2019-03-09    Delhi      Cochin  07:30:00   \n",
       "3          Air India      2019-05-21   Mumbai   Hyderabad  21:05:00   \n",
       "4        Jet Airways      2019-05-01  Kolkata    Banglore  21:10:00   \n",
       "\n",
       "  arrival_time  duration  total_stops              additional_info  price  \n",
       "0     01:20:00       920          2.0                      No Info  14083  \n",
       "1     00:05:00       160          0.0                      No Info   4148  \n",
       "2     19:45:00       735          1.0                      No Info  12615  \n",
       "3     22:25:00        80          0.0                      No Info   3100  \n",
       "4     10:05:00       775          1.0  In-flight meal not included  10844  "
      ]
     },
     "execution_count": 209,
     "metadata": {},
     "output_type": "execute_result"
    }
   ],
   "source": [
    "export_data(X_test,y_test,\"test\")"
   ]
  },
  {
   "cell_type": "code",
   "execution_count": null,
   "id": "b8d8d9ee-6de6-4696-957e-4547735f2e7a",
   "metadata": {},
   "outputs": [],
   "source": []
  }
 ],
 "metadata": {
  "kernelspec": {
   "display_name": "Python (aws)",
   "language": "python",
   "name": "aws"
  },
  "language_info": {
   "codemirror_mode": {
    "name": "ipython",
    "version": 3
   },
   "file_extension": ".py",
   "mimetype": "text/x-python",
   "name": "python",
   "nbconvert_exporter": "python",
   "pygments_lexer": "ipython3",
   "version": "3.12.4"
  }
 },
 "nbformat": 4,
 "nbformat_minor": 5
}
